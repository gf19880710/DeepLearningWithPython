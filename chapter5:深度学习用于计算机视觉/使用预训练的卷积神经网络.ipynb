{
 "cells": [
  {
   "cell_type": "markdown",
   "metadata": {},
   "source": [
    "# 1.将VGG16卷积基实例化"
   ]
  },
  {
   "cell_type": "code",
   "execution_count": 1,
   "metadata": {},
   "outputs": [
    {
     "name": "stdout",
     "output_type": "stream",
     "text": [
      "Downloading data from https://github.com/fchollet/deep-learning-models/releases/download/v0.1/vgg16_weights_tf_dim_ordering_tf_kernels_notop.h5\n",
      "58892288/58889256 [==============================] - 127s 2us/step\n",
      "_________________________________________________________________\n",
      "Layer (type)                 Output Shape              Param #   \n",
      "=================================================================\n",
      "input_1 (InputLayer)         (None, 150, 150, 3)       0         \n",
      "_________________________________________________________________\n",
      "block1_conv1 (Conv2D)        (None, 150, 150, 64)      1792      \n",
      "_________________________________________________________________\n",
      "block1_conv2 (Conv2D)        (None, 150, 150, 64)      36928     \n",
      "_________________________________________________________________\n",
      "block1_pool (MaxPooling2D)   (None, 75, 75, 64)        0         \n",
      "_________________________________________________________________\n",
      "block2_conv1 (Conv2D)        (None, 75, 75, 128)       73856     \n",
      "_________________________________________________________________\n",
      "block2_conv2 (Conv2D)        (None, 75, 75, 128)       147584    \n",
      "_________________________________________________________________\n",
      "block2_pool (MaxPooling2D)   (None, 37, 37, 128)       0         \n",
      "_________________________________________________________________\n",
      "block3_conv1 (Conv2D)        (None, 37, 37, 256)       295168    \n",
      "_________________________________________________________________\n",
      "block3_conv2 (Conv2D)        (None, 37, 37, 256)       590080    \n",
      "_________________________________________________________________\n",
      "block3_conv3 (Conv2D)        (None, 37, 37, 256)       590080    \n",
      "_________________________________________________________________\n",
      "block3_pool (MaxPooling2D)   (None, 18, 18, 256)       0         \n",
      "_________________________________________________________________\n",
      "block4_conv1 (Conv2D)        (None, 18, 18, 512)       1180160   \n",
      "_________________________________________________________________\n",
      "block4_conv2 (Conv2D)        (None, 18, 18, 512)       2359808   \n",
      "_________________________________________________________________\n",
      "block4_conv3 (Conv2D)        (None, 18, 18, 512)       2359808   \n",
      "_________________________________________________________________\n",
      "block4_pool (MaxPooling2D)   (None, 9, 9, 512)         0         \n",
      "_________________________________________________________________\n",
      "block5_conv1 (Conv2D)        (None, 9, 9, 512)         2359808   \n",
      "_________________________________________________________________\n",
      "block5_conv2 (Conv2D)        (None, 9, 9, 512)         2359808   \n",
      "_________________________________________________________________\n",
      "block5_conv3 (Conv2D)        (None, 9, 9, 512)         2359808   \n",
      "_________________________________________________________________\n",
      "block5_pool (MaxPooling2D)   (None, 4, 4, 512)         0         \n",
      "=================================================================\n",
      "Total params: 14,714,688\n",
      "Trainable params: 14,714,688\n",
      "Non-trainable params: 0\n",
      "_________________________________________________________________\n"
     ]
    }
   ],
   "source": [
    "from keras.applications import VGG16\n",
    "\n",
    "conv_base = VGG16(\n",
    "    weights='imagenet',\n",
    "    include_top=False,\n",
    "    input_shape=(150, 150, 3)\n",
    ")\n",
    "\n",
    "conv_base.summary()"
   ]
  },
  {
   "cell_type": "markdown",
   "metadata": {},
   "source": [
    "# 2.不使用数据增强的快速特征提取"
   ]
  },
  {
   "cell_type": "code",
   "execution_count": 3,
   "metadata": {},
   "outputs": [
    {
     "name": "stdout",
     "output_type": "stream",
     "text": [
      "Found 2000 images belonging to 2 classes.\n",
      "Found 1000 images belonging to 2 classes.\n",
      "Found 1000 images belonging to 2 classes.\n"
     ]
    }
   ],
   "source": [
    "import os\n",
    "import numpy as np\n",
    "from keras.preprocessing.image import ImageDataGenerator\n",
    "\n",
    "base_dir = r'/data/dataset/dogs_cats/cats_dogs_small_dataset/'\n",
    "train_dir = os.path.join(base_dir, 'train')\n",
    "validation_dir = os.path.join(base_dir, 'validation')\n",
    "test_dir = os.path.join(base_dir, 'test')\n",
    "\n",
    "datagen = ImageDataGenerator(rescale=1.0/255)\n",
    "batch_size = 20\n",
    "\n",
    "def extract_features(directory, sample_count):\n",
    "    features = np.zeros(shape=(sample_count, 4, 4, 512))\n",
    "    labels = np.zeros(shape=(sample_count))\n",
    "    generator = datagen.flow_from_directory(\n",
    "        directory,\n",
    "        target_size=(150, 150),\n",
    "        batch_size=batch_size,\n",
    "        class_mode='binary'\n",
    "    )\n",
    "    i = 0\n",
    "    for inputs_batch, labels_batch in generator:\n",
    "        features_batch = conv_base.predict(inputs_batch)\n",
    "        features[i * batch_size:(i+1)*batch_size] = features_batch\n",
    "        labels[i * batch_size:(i+1)*batch_size] = labels_batch\n",
    "        i += 1\n",
    "        if i*batch_size >= sample_count:\n",
    "            break\n",
    "    return features, labels\n",
    "\n",
    "train_features, train_labels = extract_features(train_dir, 2000)\n",
    "validation_features, validation_labels = extract_features(validation_dir, 1000)\n",
    "test_features, test_labels = extract_features(test_dir, 1000)\n",
    "# 需要展平后才能输入到密集链接分类器中\n",
    "train_features = np.reshape(train_features, (2000, -1))\n",
    "validation_features = np.reshape(validation_features, (1000, -1))\n",
    "test_features = np.reshape(test_features, (1000, -1))\n"
   ]
  },
  {
   "cell_type": "markdown",
   "metadata": {},
   "source": [
    "# 3.定义并训练密集连接分类器"
   ]
  },
  {
   "cell_type": "code",
   "execution_count": 5,
   "metadata": {},
   "outputs": [
    {
     "name": "stdout",
     "output_type": "stream",
     "text": [
      "Train on 2000 samples, validate on 1000 samples\n",
      "Epoch 1/30\n",
      "2000/2000 [==============================] - 1s 353us/step - loss: 0.6009 - acc: 0.6665 - val_loss: 0.4308 - val_acc: 0.8220\n",
      "Epoch 2/30\n",
      "2000/2000 [==============================] - 0s 164us/step - loss: 0.4269 - acc: 0.8095 - val_loss: 0.3567 - val_acc: 0.8630\n",
      "Epoch 3/30\n",
      "2000/2000 [==============================] - 0s 157us/step - loss: 0.3554 - acc: 0.8380 - val_loss: 0.3223 - val_acc: 0.8780\n",
      "Epoch 4/30\n",
      "2000/2000 [==============================] - 0s 170us/step - loss: 0.3076 - acc: 0.8770 - val_loss: 0.2996 - val_acc: 0.8890\n",
      "Epoch 5/30\n",
      "2000/2000 [==============================] - 0s 164us/step - loss: 0.2848 - acc: 0.8815 - val_loss: 0.2850 - val_acc: 0.8870\n",
      "Epoch 6/30\n",
      "2000/2000 [==============================] - 0s 156us/step - loss: 0.2568 - acc: 0.8955 - val_loss: 0.2849 - val_acc: 0.8910\n",
      "Epoch 7/30\n",
      "2000/2000 [==============================] - 0s 160us/step - loss: 0.2409 - acc: 0.9065 - val_loss: 0.2635 - val_acc: 0.9030\n",
      "Epoch 8/30\n",
      "2000/2000 [==============================] - 0s 171us/step - loss: 0.2234 - acc: 0.9155 - val_loss: 0.2596 - val_acc: 0.8960\n",
      "Epoch 9/30\n",
      "2000/2000 [==============================] - 0s 159us/step - loss: 0.2142 - acc: 0.9190 - val_loss: 0.2528 - val_acc: 0.9010\n",
      "Epoch 10/30\n",
      "2000/2000 [==============================] - 0s 175us/step - loss: 0.2027 - acc: 0.9235 - val_loss: 0.2482 - val_acc: 0.9050\n",
      "Epoch 11/30\n",
      "2000/2000 [==============================] - 0s 158us/step - loss: 0.1869 - acc: 0.9310 - val_loss: 0.2598 - val_acc: 0.8860\n",
      "Epoch 12/30\n",
      "2000/2000 [==============================] - 0s 159us/step - loss: 0.1868 - acc: 0.9335 - val_loss: 0.2477 - val_acc: 0.8970\n",
      "Epoch 13/30\n",
      "2000/2000 [==============================] - 0s 171us/step - loss: 0.1723 - acc: 0.9380 - val_loss: 0.2542 - val_acc: 0.8900\n",
      "Epoch 14/30\n",
      "2000/2000 [==============================] - 0s 158us/step - loss: 0.1613 - acc: 0.9410 - val_loss: 0.2486 - val_acc: 0.8970\n",
      "Epoch 15/30\n",
      "2000/2000 [==============================] - 0s 161us/step - loss: 0.1610 - acc: 0.9420 - val_loss: 0.2422 - val_acc: 0.9030\n",
      "Epoch 16/30\n",
      "2000/2000 [==============================] - 0s 164us/step - loss: 0.1500 - acc: 0.9465 - val_loss: 0.2392 - val_acc: 0.9050\n",
      "Epoch 17/30\n",
      "2000/2000 [==============================] - 0s 166us/step - loss: 0.1474 - acc: 0.9485 - val_loss: 0.2369 - val_acc: 0.9060\n",
      "Epoch 18/30\n",
      "2000/2000 [==============================] - 0s 168us/step - loss: 0.1418 - acc: 0.9475 - val_loss: 0.2397 - val_acc: 0.9040\n",
      "Epoch 19/30\n",
      "2000/2000 [==============================] - 0s 157us/step - loss: 0.1343 - acc: 0.9500 - val_loss: 0.2382 - val_acc: 0.9050\n",
      "Epoch 20/30\n",
      "2000/2000 [==============================] - 0s 158us/step - loss: 0.1271 - acc: 0.9545 - val_loss: 0.2366 - val_acc: 0.9030\n",
      "Epoch 21/30\n",
      "2000/2000 [==============================] - 0s 158us/step - loss: 0.1234 - acc: 0.9595 - val_loss: 0.2408 - val_acc: 0.9030\n",
      "Epoch 22/30\n",
      "2000/2000 [==============================] - 0s 171us/step - loss: 0.1170 - acc: 0.9595 - val_loss: 0.2378 - val_acc: 0.9070\n",
      "Epoch 23/30\n",
      "2000/2000 [==============================] - 0s 158us/step - loss: 0.1131 - acc: 0.9610 - val_loss: 0.2468 - val_acc: 0.9000\n",
      "Epoch 24/30\n",
      "2000/2000 [==============================] - 0s 159us/step - loss: 0.1098 - acc: 0.9650 - val_loss: 0.2433 - val_acc: 0.9000\n",
      "Epoch 25/30\n",
      "2000/2000 [==============================] - 0s 166us/step - loss: 0.1021 - acc: 0.9685 - val_loss: 0.2383 - val_acc: 0.9020\n",
      "Epoch 26/30\n",
      "2000/2000 [==============================] - 0s 161us/step - loss: 0.0965 - acc: 0.9735 - val_loss: 0.2537 - val_acc: 0.8970\n",
      "Epoch 27/30\n",
      "2000/2000 [==============================] - 0s 166us/step - loss: 0.0940 - acc: 0.9745 - val_loss: 0.2502 - val_acc: 0.8980\n",
      "Epoch 28/30\n",
      "2000/2000 [==============================] - 0s 160us/step - loss: 0.0901 - acc: 0.9735 - val_loss: 0.2499 - val_acc: 0.9020\n",
      "Epoch 29/30\n",
      "2000/2000 [==============================] - 0s 162us/step - loss: 0.0909 - acc: 0.9720 - val_loss: 0.2473 - val_acc: 0.9030\n",
      "Epoch 30/30\n",
      "2000/2000 [==============================] - 0s 168us/step - loss: 0.0839 - acc: 0.9730 - val_loss: 0.2488 - val_acc: 0.9020\n",
      "\n"
     ]
    },
    {
     "data": {
      "text/plain": [
       "dict_keys(['val_loss', 'val_acc', 'loss', 'acc'])"
      ]
     },
     "execution_count": 5,
     "metadata": {},
     "output_type": "execute_result"
    }
   ],
   "source": [
    "from keras import models \n",
    "from keras import layers \n",
    "from keras import optimizers\n",
    "\n",
    "model = models.Sequential()\n",
    "model.add(layers.Dense(256, activation='relu', input_dim=4*4*512))\n",
    "model.add(layers.Dropout(0.5))\n",
    "model.add(layers.Dense(1, activation='sigmoid'))\n",
    "\n",
    "model.compile(\n",
    "    optimizer=optimizers.RMSprop(lr=2e-5),\n",
    "    loss='binary_crossentropy',\n",
    "    metrics=['accuracy']\n",
    ")\n",
    "\n",
    "history = model.fit(\n",
    "    train_features,\n",
    "    train_labels,\n",
    "    epochs=30,\n",
    "    batch_size=20,\n",
    "    validation_data=(validation_features, validation_labels)\n",
    ")\n",
    "\n",
    "print()\n",
    "history.history.keys()"
   ]
  },
  {
   "cell_type": "markdown",
   "metadata": {},
   "source": [
    "# 4.绘制结果"
   ]
  },
  {
   "cell_type": "code",
   "execution_count": 7,
   "metadata": {},
   "outputs": [
    {
     "data": {
      "image/png": "[encoded data removed]",
      "text/plain": [
       "<matplotlib.figure.Figure at 0x7f2ac1ae75c0>"
      ]
     },
     "metadata": {},
     "output_type": "display_data"
    },
    {
     "data": {
      "image/png": "[encoded data removed]",
      "text/plain": [
       "<matplotlib.figure.Figure at 0x7f2ac1a719e8>"
      ]
     },
     "metadata": {},
     "output_type": "display_data"
    }
   ],
   "source": [
    "import matplotlib.pyplot as plt\n",
    "acc = history.history['acc']\n",
    "val_acc = history.history['val_acc']\n",
    "loss = history.history['loss']\n",
    "val_loss = history.history['val_loss']\n",
    "epochs = range(1, len(acc) + 1)\n",
    "plt.plot(epochs, acc, 'ro', label='Training acc')\n",
    "plt.plot(epochs, val_acc, 'b', label='Validation acc')\n",
    "plt.title('Training and validation accuracy')\n",
    "plt.legend()\n",
    "plt.figure()\n",
    "plt.plot(epochs, loss, 'ro', label='Training loss')\n",
    "plt.plot(epochs, val_loss, 'b', label='Validation loss')\n",
    "plt.title('Training and validation loss')\n",
    "plt.legend()\n",
    "plt.show()"
   ]
  },
  {
   "cell_type": "code",
   "execution_count": null,
   "metadata": {},
   "outputs": [],
   "source": [
    "我们的验证精度达到了约 90%，比上一节从头开始训练的小型模型效果要好得多。但从图\n",
    "中也可以看出，虽然 dropout 比率相当大，但模型几乎从一开始就过拟合。这是因为本方法没有\n",
    "使用数据增强，而数据增强对防止小型图像数据集的过拟合非常重要。"
   ]
  },
  {
   "cell_type": "markdown",
   "metadata": {},
   "source": [
    "# 5.使用数据增强的特征提取"
   ]
  },
  {
   "cell_type": "code",
   "execution_count": 18,
   "metadata": {},
   "outputs": [
    {
     "name": "stdout",
     "output_type": "stream",
     "text": [
      "_________________________________________________________________\n",
      "Layer (type)                 Output Shape              Param #   \n",
      "=================================================================\n",
      "vgg16 (Model)                (None, 4, 4, 512)         14714688  \n",
      "_________________________________________________________________\n",
      "flatten_4 (Flatten)          (None, 8192)              0         \n",
      "_________________________________________________________________\n",
      "dense_7 (Dense)              (None, 256)               2097408   \n",
      "_________________________________________________________________\n",
      "dense_8 (Dense)              (None, 1)                 257       \n",
      "=================================================================\n",
      "Total params: 16,812,353\n",
      "Trainable params: 2,097,665\n",
      "Non-trainable params: 14,714,688\n",
      "_________________________________________________________________\n"
     ]
    }
   ],
   "source": [
    "from keras import regularizers\n",
    "# 在卷积基上添加一个密集连接分类器\n",
    "net = models.Sequential()\n",
    "net.add(conv_base)\n",
    "net.add(layers.Flatten())\n",
    "net.add(layers.Dense(256, activation='relu', kernel_regularizer=regularizers.l2(0.0001)))\n",
    "net.add(layers.Dense(1, activation='sigmoid'))\n",
    "\n",
    "net.summary()"
   ]
  },
  {
   "cell_type": "code",
   "execution_count": 10,
   "metadata": {},
   "outputs": [
    {
     "name": "stdout",
     "output_type": "stream",
     "text": [
      "This is the number of trainable weghts before freezing the conv base 30\n",
      "This is the number of trainable weghts after freezing the conv base 4\n"
     ]
    }
   ],
   "source": [
    "# 在编译和训练模型之前,一定要\"冻结\"卷积基.\n",
    "print('This is the number of trainable weghts before freezing the conv base', len(net.trainable_weights))\n",
    "conv_base.trainable = False\n",
    "print('This is the number of trainable weghts after freezing the conv base', len(net.trainable_weights))"
   ]
  },
  {
   "cell_type": "markdown",
   "metadata": {},
   "source": [
    "# 6.利用冻结的卷积基端到端地训练模型"
   ]
  },
  {
   "cell_type": "code",
   "execution_count": 19,
   "metadata": {},
   "outputs": [
    {
     "name": "stdout",
     "output_type": "stream",
     "text": [
      "Found 2000 images belonging to 2 classes.\n",
      "Found 1000 images belonging to 2 classes.\n",
      "Epoch 1/30\n",
      "100/100 [==============================] - 12s 119ms/step - loss: 0.6358 - acc: 0.6940 - val_loss: 0.4882 - val_acc: 0.8370\n",
      "Epoch 2/30\n",
      "100/100 [==============================] - 11s 106ms/step - loss: 0.5190 - acc: 0.7955 - val_loss: 0.4200 - val_acc: 0.8500\n",
      "Epoch 3/30\n",
      "100/100 [==============================] - 11s 110ms/step - loss: 0.4762 - acc: 0.8065 - val_loss: 0.3709 - val_acc: 0.8780\n",
      "Epoch 4/30\n",
      "100/100 [==============================] - 11s 109ms/step - loss: 0.4440 - acc: 0.8280 - val_loss: 0.3476 - val_acc: 0.8820\n",
      "Epoch 5/30\n",
      "100/100 [==============================] - 11s 107ms/step - loss: 0.4202 - acc: 0.8370 - val_loss: 0.3331 - val_acc: 0.8880\n",
      "Epoch 6/30\n",
      "100/100 [==============================] - 11s 107ms/step - loss: 0.4019 - acc: 0.8375 - val_loss: 0.3401 - val_acc: 0.8770\n",
      "Epoch 7/30\n",
      "100/100 [==============================] - 11s 108ms/step - loss: 0.4079 - acc: 0.8375 - val_loss: 0.3232 - val_acc: 0.8810\n",
      "Epoch 8/30\n",
      "100/100 [==============================] - 11s 108ms/step - loss: 0.3908 - acc: 0.8460 - val_loss: 0.3156 - val_acc: 0.8900\n",
      "Epoch 9/30\n",
      "100/100 [==============================] - 11s 109ms/step - loss: 0.3846 - acc: 0.8505 - val_loss: 0.3074 - val_acc: 0.8910\n",
      "Epoch 10/30\n",
      "100/100 [==============================] - 11s 107ms/step - loss: 0.3741 - acc: 0.8565 - val_loss: 0.3018 - val_acc: 0.8910\n",
      "Epoch 11/30\n",
      "100/100 [==============================] - 11s 107ms/step - loss: 0.3616 - acc: 0.8625 - val_loss: 0.2902 - val_acc: 0.8980\n",
      "Epoch 12/30\n",
      "100/100 [==============================] - 11s 109ms/step - loss: 0.3675 - acc: 0.8605 - val_loss: 0.2888 - val_acc: 0.8950\n",
      "Epoch 13/30\n",
      "100/100 [==============================] - 11s 111ms/step - loss: 0.3640 - acc: 0.8525 - val_loss: 0.2844 - val_acc: 0.8990\n",
      "Epoch 14/30\n",
      "100/100 [==============================] - 11s 111ms/step - loss: 0.3630 - acc: 0.8550 - val_loss: 0.2824 - val_acc: 0.8960\n",
      "Epoch 15/30\n",
      "100/100 [==============================] - 11s 107ms/step - loss: 0.3601 - acc: 0.8625 - val_loss: 0.2841 - val_acc: 0.9020\n",
      "Epoch 16/30\n",
      "100/100 [==============================] - 11s 110ms/step - loss: 0.3452 - acc: 0.8545 - val_loss: 0.2854 - val_acc: 0.8990\n",
      "Epoch 17/30\n",
      "100/100 [==============================] - 11s 108ms/step - loss: 0.3488 - acc: 0.8655 - val_loss: 0.2769 - val_acc: 0.9000\n",
      "Epoch 18/30\n",
      "100/100 [==============================] - 11s 109ms/step - loss: 0.3478 - acc: 0.8585 - val_loss: 0.2763 - val_acc: 0.9010\n",
      "Epoch 19/30\n",
      "100/100 [==============================] - 11s 108ms/step - loss: 0.3334 - acc: 0.8695 - val_loss: 0.2735 - val_acc: 0.9010\n",
      "Epoch 20/30\n",
      "100/100 [==============================] - 11s 112ms/step - loss: 0.3335 - acc: 0.8720 - val_loss: 0.2754 - val_acc: 0.9040\n",
      "Epoch 21/30\n",
      "100/100 [==============================] - 11s 109ms/step - loss: 0.3335 - acc: 0.8720 - val_loss: 0.2734 - val_acc: 0.9030\n",
      "Epoch 22/30\n",
      "100/100 [==============================] - 11s 109ms/step - loss: 0.3368 - acc: 0.8650 - val_loss: 0.2702 - val_acc: 0.9040\n",
      "Epoch 23/30\n",
      "100/100 [==============================] - 11s 111ms/step - loss: 0.3332 - acc: 0.8715 - val_loss: 0.2875 - val_acc: 0.8960\n",
      "Epoch 24/30\n",
      "100/100 [==============================] - 11s 107ms/step - loss: 0.3173 - acc: 0.8810 - val_loss: 0.2724 - val_acc: 0.9040\n",
      "Epoch 25/30\n",
      "100/100 [==============================] - 11s 106ms/step - loss: 0.3149 - acc: 0.8825 - val_loss: 0.2710 - val_acc: 0.9010\n",
      "Epoch 26/30\n",
      "100/100 [==============================] - 11s 107ms/step - loss: 0.3146 - acc: 0.8870 - val_loss: 0.2723 - val_acc: 0.9060\n",
      "Epoch 27/30\n",
      "100/100 [==============================] - 11s 107ms/step - loss: 0.3103 - acc: 0.8860 - val_loss: 0.2698 - val_acc: 0.9080\n",
      "Epoch 28/30\n",
      "100/100 [==============================] - 11s 107ms/step - loss: 0.3201 - acc: 0.8765 - val_loss: 0.2804 - val_acc: 0.8990\n",
      "Epoch 29/30\n",
      "100/100 [==============================] - 11s 107ms/step - loss: 0.3285 - acc: 0.8720 - val_loss: 0.2804 - val_acc: 0.9030\n",
      "Epoch 30/30\n",
      "100/100 [==============================] - 11s 106ms/step - loss: 0.3158 - acc: 0.8830 - val_loss: 0.2745 - val_acc: 0.9060\n",
      "\n"
     ]
    },
    {
     "data": {
      "text/plain": [
       "dict_keys(['val_loss', 'val_acc', 'loss', 'acc'])"
      ]
     },
     "execution_count": 19,
     "metadata": {},
     "output_type": "execute_result"
    }
   ],
   "source": [
    "train_datagen = ImageDataGenerator(\n",
    "    rescale=1.0/255,\n",
    "    rotation_range=40,\n",
    "    width_shift_range=0.2,\n",
    "    height_shift_range=0.2,\n",
    "    shear_range=0.2,\n",
    "    zoom_range=0.2,\n",
    "    horizontal_flip=True,\n",
    "    fill_mode='nearest'\n",
    ")\n",
    "# 注意不能增强验证集数据\n",
    "val_datagen = ImageDataGenerator(rescale=1.0/255)\n",
    "\n",
    "train_generator = train_datagen.flow_from_directory(\n",
    "    train_dir,\n",
    "    target_size=(150, 150),\n",
    "    batch_size=20,\n",
    "    class_mode='binary'\n",
    ")\n",
    "val_generator = val_datagen.flow_from_directory(\n",
    "    validation_dir,\n",
    "    target_size=(150, 150),\n",
    "    batch_size=20, \n",
    "    class_mode='binary'\n",
    ")\n",
    "\n",
    "net.compile(\n",
    "    optimizer=optimizers.RMSprop(lr=2e-5),\n",
    "    loss='binary_crossentropy',\n",
    "    metrics=['acc']\n",
    ")\n",
    "\n",
    "history = net.fit_generator(\n",
    "    train_generator,\n",
    "    steps_per_epoch=100,\n",
    "    epochs=30,\n",
    "    validation_data=val_generator,\n",
    "    validation_steps=50\n",
    ")\n",
    "\n",
    "print()\n",
    "history.history.keys()"
   ]
  },
  {
   "cell_type": "code",
   "execution_count": 20,
   "metadata": {},
   "outputs": [
    {
     "data": {
      "image/png": "[encoded data removed]",
      "text/plain": [
       "<matplotlib.figure.Figure at 0x7f2ccb134320>"
      ]
     },
     "metadata": {},
     "output_type": "display_data"
    },
    {
     "data": {
      "image/png": "[encoded data removed]",
      "text/plain": [
       "<matplotlib.figure.Figure at 0x7f2cd131ab70>"
      ]
     },
     "metadata": {},
     "output_type": "display_data"
    }
   ],
   "source": [
    "acc = history.history['acc']\n",
    "val_acc = history.history['val_acc']\n",
    "loss = history.history['loss']\n",
    "val_loss = history.history['val_loss']\n",
    "epochs = range(1, len(acc) + 1)\n",
    "plt.plot(epochs, acc, 'ro', label='Training acc')\n",
    "plt.plot(epochs, val_acc, 'b', label='Validation acc')\n",
    "plt.title('Training and validation accuracy')\n",
    "plt.legend()\n",
    "plt.figure()\n",
    "plt.plot(epochs, loss, 'ro', label='Training loss')\n",
    "plt.plot(epochs, val_loss, 'b', label='Validation loss')\n",
    "plt.title('Training and validation loss')\n",
    "plt.legend()\n",
    "plt.show()"
   ]
  },
  {
   "cell_type": "code",
   "execution_count": 22,
   "metadata": {},
   "outputs": [
    {
     "name": "stdout",
     "output_type": "stream",
     "text": [
      "_________________________________________________________________\n",
      "Layer (type)                 Output Shape              Param #   \n",
      "=================================================================\n",
      "input_1 (InputLayer)         (None, 150, 150, 3)       0         \n",
      "_________________________________________________________________\n",
      "block1_conv1 (Conv2D)        (None, 150, 150, 64)      1792      \n",
      "_________________________________________________________________\n",
      "block1_conv2 (Conv2D)        (None, 150, 150, 64)      36928     \n",
      "_________________________________________________________________\n",
      "block1_pool (MaxPooling2D)   (None, 75, 75, 64)        0         \n",
      "_________________________________________________________________\n",
      "block2_conv1 (Conv2D)        (None, 75, 75, 128)       73856     \n",
      "_________________________________________________________________\n",
      "block2_conv2 (Conv2D)        (None, 75, 75, 128)       147584    \n",
      "_________________________________________________________________\n",
      "block2_pool (MaxPooling2D)   (None, 37, 37, 128)       0         \n",
      "_________________________________________________________________\n",
      "block3_conv1 (Conv2D)        (None, 37, 37, 256)       295168    \n",
      "_________________________________________________________________\n",
      "block3_conv2 (Conv2D)        (None, 37, 37, 256)       590080    \n",
      "_________________________________________________________________\n",
      "block3_conv3 (Conv2D)        (None, 37, 37, 256)       590080    \n",
      "_________________________________________________________________\n",
      "block3_pool (MaxPooling2D)   (None, 18, 18, 256)       0         \n",
      "_________________________________________________________________\n",
      "block4_conv1 (Conv2D)        (None, 18, 18, 512)       1180160   \n",
      "_________________________________________________________________\n",
      "block4_conv2 (Conv2D)        (None, 18, 18, 512)       2359808   \n",
      "_________________________________________________________________\n",
      "block4_conv3 (Conv2D)        (None, 18, 18, 512)       2359808   \n",
      "_________________________________________________________________\n",
      "block4_pool (MaxPooling2D)   (None, 9, 9, 512)         0         \n",
      "_________________________________________________________________\n",
      "block5_conv1 (Conv2D)        (None, 9, 9, 512)         2359808   \n",
      "_________________________________________________________________\n",
      "block5_conv2 (Conv2D)        (None, 9, 9, 512)         2359808   \n",
      "_________________________________________________________________\n",
      "block5_conv3 (Conv2D)        (None, 9, 9, 512)         2359808   \n",
      "_________________________________________________________________\n",
      "block5_pool (MaxPooling2D)   (None, 4, 4, 512)         0         \n",
      "=================================================================\n",
      "Total params: 14,714,688\n",
      "Trainable params: 14,714,688\n",
      "Non-trainable params: 0\n",
      "_________________________________________________________________\n"
     ]
    }
   ],
   "source": [
    "conv_base.trainable = True\n",
    "conv_base.summary()"
   ]
  },
  {
   "cell_type": "code",
   "execution_count": 23,
   "metadata": {},
   "outputs": [],
   "source": [
    "set_trainable = False\n",
    "for layer in conv_base.layers:\n",
    "    if layer.name == 'block5_conv1':\n",
    "        set_trainable = True\n",
    "    if set_trainable:\n",
    "        layer.trainable = True\n",
    "    else:\n",
    "        layer.trainable = False\n",
    "        "
   ]
  },
  {
   "cell_type": "code",
   "execution_count": 24,
   "metadata": {},
   "outputs": [
    {
     "name": "stdout",
     "output_type": "stream",
     "text": [
      "_________________________________________________________________\n",
      "Layer (type)                 Output Shape              Param #   \n",
      "=================================================================\n",
      "input_1 (InputLayer)         (None, 150, 150, 3)       0         \n",
      "_________________________________________________________________\n",
      "block1_conv1 (Conv2D)        (None, 150, 150, 64)      1792      \n",
      "_________________________________________________________________\n",
      "block1_conv2 (Conv2D)        (None, 150, 150, 64)      36928     \n",
      "_________________________________________________________________\n",
      "block1_pool (MaxPooling2D)   (None, 75, 75, 64)        0         \n",
      "_________________________________________________________________\n",
      "block2_conv1 (Conv2D)        (None, 75, 75, 128)       73856     \n",
      "_________________________________________________________________\n",
      "block2_conv2 (Conv2D)        (None, 75, 75, 128)       147584    \n",
      "_________________________________________________________________\n",
      "block2_pool (MaxPooling2D)   (None, 37, 37, 128)       0         \n",
      "_________________________________________________________________\n",
      "block3_conv1 (Conv2D)        (None, 37, 37, 256)       295168    \n",
      "_________________________________________________________________\n",
      "block3_conv2 (Conv2D)        (None, 37, 37, 256)       590080    \n",
      "_________________________________________________________________\n",
      "block3_conv3 (Conv2D)        (None, 37, 37, 256)       590080    \n",
      "_________________________________________________________________\n",
      "block3_pool (MaxPooling2D)   (None, 18, 18, 256)       0         \n",
      "_________________________________________________________________\n",
      "block4_conv1 (Conv2D)        (None, 18, 18, 512)       1180160   \n",
      "_________________________________________________________________\n",
      "block4_conv2 (Conv2D)        (None, 18, 18, 512)       2359808   \n",
      "_________________________________________________________________\n",
      "block4_conv3 (Conv2D)        (None, 18, 18, 512)       2359808   \n",
      "_________________________________________________________________\n",
      "block4_pool (MaxPooling2D)   (None, 9, 9, 512)         0         \n",
      "_________________________________________________________________\n",
      "block5_conv1 (Conv2D)        (None, 9, 9, 512)         2359808   \n",
      "_________________________________________________________________\n",
      "block5_conv2 (Conv2D)        (None, 9, 9, 512)         2359808   \n",
      "_________________________________________________________________\n",
      "block5_conv3 (Conv2D)        (None, 9, 9, 512)         2359808   \n",
      "_________________________________________________________________\n",
      "block5_pool (MaxPooling2D)   (None, 4, 4, 512)         0         \n",
      "=================================================================\n",
      "Total params: 14,714,688\n",
      "Trainable params: 7,079,424\n",
      "Non-trainable params: 7,635,264\n",
      "_________________________________________________________________\n"
     ]
    }
   ],
   "source": [
    "conv_base.summary()"
   ]
  },
  {
   "cell_type": "markdown",
   "metadata": {},
   "source": [
    "# 7.微调模型"
   ]
  },
  {
   "cell_type": "code",
   "execution_count": 26,
   "metadata": {},
   "outputs": [
    {
     "name": "stdout",
     "output_type": "stream",
     "text": [
      "Epoch 1/30\n",
      "100/100 [==============================] - 12s 118ms/step - loss: 0.3270 - acc: 0.8720 - val_loss: 0.2584 - val_acc: 0.9160\n",
      "Epoch 2/30\n",
      "100/100 [==============================] - 11s 109ms/step - loss: 0.2838 - acc: 0.8960 - val_loss: 0.2354 - val_acc: 0.9200\n",
      "Epoch 3/30\n",
      "100/100 [==============================] - 11s 108ms/step - loss: 0.2664 - acc: 0.8965 - val_loss: 0.2645 - val_acc: 0.9100\n",
      "Epoch 4/30\n",
      "100/100 [==============================] - 11s 110ms/step - loss: 0.2365 - acc: 0.9150 - val_loss: 0.2749 - val_acc: 0.9080\n",
      "Epoch 5/30\n",
      "100/100 [==============================] - 11s 109ms/step - loss: 0.2509 - acc: 0.9065 - val_loss: 0.2419 - val_acc: 0.9240\n",
      "Epoch 6/30\n",
      "100/100 [==============================] - 11s 107ms/step - loss: 0.2400 - acc: 0.9095 - val_loss: 0.2212 - val_acc: 0.9290\n",
      "Epoch 7/30\n",
      "100/100 [==============================] - 11s 108ms/step - loss: 0.2231 - acc: 0.9210 - val_loss: 0.2490 - val_acc: 0.9210\n",
      "Epoch 8/30\n",
      "100/100 [==============================] - 11s 108ms/step - loss: 0.2055 - acc: 0.9275 - val_loss: 0.2443 - val_acc: 0.9220\n",
      "Epoch 9/30\n",
      "100/100 [==============================] - 11s 107ms/step - loss: 0.1908 - acc: 0.9405 - val_loss: 0.2302 - val_acc: 0.9310\n",
      "Epoch 10/30\n",
      "100/100 [==============================] - 11s 108ms/step - loss: 0.1802 - acc: 0.9420 - val_loss: 0.2167 - val_acc: 0.9290\n",
      "Epoch 11/30\n",
      "100/100 [==============================] - 11s 107ms/step - loss: 0.1977 - acc: 0.9395 - val_loss: 0.2120 - val_acc: 0.9320\n",
      "Epoch 12/30\n",
      "100/100 [==============================] - 11s 108ms/step - loss: 0.1646 - acc: 0.9505 - val_loss: 0.2361 - val_acc: 0.9210\n",
      "Epoch 13/30\n",
      "100/100 [==============================] - 11s 107ms/step - loss: 0.1586 - acc: 0.9500 - val_loss: 0.2217 - val_acc: 0.9310\n",
      "Epoch 14/30\n",
      "100/100 [==============================] - 11s 108ms/step - loss: 0.1619 - acc: 0.9440 - val_loss: 0.2098 - val_acc: 0.9360\n",
      "Epoch 15/30\n",
      "100/100 [==============================] - 11s 107ms/step - loss: 0.1490 - acc: 0.9465 - val_loss: 0.2154 - val_acc: 0.9320\n",
      "Epoch 16/30\n",
      "100/100 [==============================] - 11s 108ms/step - loss: 0.1489 - acc: 0.9555 - val_loss: 0.2144 - val_acc: 0.9360\n",
      "Epoch 17/30\n",
      "100/100 [==============================] - 11s 108ms/step - loss: 0.1461 - acc: 0.9600 - val_loss: 0.2177 - val_acc: 0.9340\n",
      "Epoch 18/30\n",
      "100/100 [==============================] - 11s 108ms/step - loss: 0.1351 - acc: 0.9575 - val_loss: 0.2198 - val_acc: 0.9340\n",
      "Epoch 19/30\n",
      "100/100 [==============================] - 11s 108ms/step - loss: 0.1417 - acc: 0.9645 - val_loss: 0.2339 - val_acc: 0.9330\n",
      "Epoch 20/30\n",
      "100/100 [==============================] - 11s 109ms/step - loss: 0.1287 - acc: 0.9660 - val_loss: 0.2315 - val_acc: 0.9290\n",
      "Epoch 21/30\n",
      "100/100 [==============================] - 11s 109ms/step - loss: 0.1294 - acc: 0.9635 - val_loss: 0.2281 - val_acc: 0.9370\n",
      "Epoch 22/30\n",
      "100/100 [==============================] - 11s 108ms/step - loss: 0.1264 - acc: 0.9625 - val_loss: 0.3052 - val_acc: 0.9200\n",
      "Epoch 23/30\n",
      "100/100 [==============================] - 11s 108ms/step - loss: 0.1134 - acc: 0.9750 - val_loss: 0.2719 - val_acc: 0.9250\n",
      "Epoch 24/30\n",
      "100/100 [==============================] - 11s 108ms/step - loss: 0.1172 - acc: 0.9660 - val_loss: 0.2255 - val_acc: 0.9280\n",
      "Epoch 25/30\n",
      "100/100 [==============================] - 11s 108ms/step - loss: 0.1161 - acc: 0.9735 - val_loss: 0.2075 - val_acc: 0.9310\n",
      "Epoch 26/30\n",
      "100/100 [==============================] - 11s 108ms/step - loss: 0.1197 - acc: 0.9685 - val_loss: 0.2452 - val_acc: 0.9340\n",
      "Epoch 27/30\n",
      "100/100 [==============================] - 11s 108ms/step - loss: 0.1141 - acc: 0.9705 - val_loss: 0.2278 - val_acc: 0.9340\n",
      "Epoch 28/30\n",
      "100/100 [==============================] - 11s 110ms/step - loss: 0.1082 - acc: 0.9705 - val_loss: 0.3369 - val_acc: 0.9130\n",
      "Epoch 29/30\n",
      "100/100 [==============================] - 11s 108ms/step - loss: 0.1063 - acc: 0.9745 - val_loss: 0.2130 - val_acc: 0.9430\n",
      "Epoch 30/30\n",
      "100/100 [==============================] - 11s 111ms/step - loss: 0.1090 - acc: 0.9710 - val_loss: 0.2042 - val_acc: 0.9400\n"
     ]
    },
    {
     "data": {
      "image/png": "[encoded data removed]",
      "text/plain": [
       "<matplotlib.figure.Figure at 0x7f2ccae69208>"
      ]
     },
     "metadata": {},
     "output_type": "display_data"
    },
    {
     "data": {
      "image/png": "[encoded data removed]",
      "text/plain": [
       "<matplotlib.figure.Figure at 0x7f2a8271b160>"
      ]
     },
     "metadata": {},
     "output_type": "display_data"
    }
   ],
   "source": [
    "net.compile(\n",
    "    loss='binary_crossentropy',\n",
    "    optimizer=optimizers.RMSprop(lr=1e-5),\n",
    "    metrics=['acc']\n",
    ")\n",
    "\n",
    "history = net.fit_generator(\n",
    "    train_generator,\n",
    "    steps_per_epoch=100,\n",
    "    epochs=30,\n",
    "    validation_data=val_generator,\n",
    "    validation_steps=50\n",
    ")\n",
    "\n",
    "acc = history.history['acc']\n",
    "val_acc = history.history['val_acc']\n",
    "loss = history.history['loss']\n",
    "val_loss = history.history['val_loss']\n",
    "epochs = range(1, len(acc) + 1)\n",
    "plt.plot(epochs, acc, 'ro', label='Training acc')\n",
    "plt.plot(epochs, val_acc, 'b', label='Validation acc')\n",
    "plt.title('Training and validation accuracy')\n",
    "plt.legend()\n",
    "plt.figure()\n",
    "plt.plot(epochs, loss, 'ro', label='Training loss')\n",
    "plt.plot(epochs, val_loss, 'b', label='Validation loss')\n",
    "plt.title('Training and validation loss')\n",
    "plt.legend()\n",
    "plt.show()"
   ]
  },
  {
   "cell_type": "markdown",
   "metadata": {},
   "source": [
    "# 8.使曲线变得平滑"
   ]
  },
  {
   "cell_type": "code",
   "execution_count": 32,
   "metadata": {},
   "outputs": [
    {
     "data": {
      "image/png": "[encoded data removed]",
      "text/plain": [
       "<matplotlib.figure.Figure at 0x7f2a90094cf8>"
      ]
     },
     "metadata": {},
     "output_type": "display_data"
    },
    {
     "data": {
      "image/png": "[encoded data removed]",
      "text/plain": [
       "<matplotlib.figure.Figure at 0x7f2a82ff4dd8>"
      ]
     },
     "metadata": {},
     "output_type": "display_data"
    }
   ],
   "source": [
    "def smooth_curve(points, factor=0.8):\n",
    "    smoothed_points = []\n",
    "    for point in points:\n",
    "        if smoothed_points:\n",
    "            previous = smoothed_points[-1]\n",
    "            smoothed_points.append(previous * factor + point * (1 - factor))\n",
    "        else:\n",
    "            smoothed_points.append(point)\n",
    "    return smoothed_points\n",
    "plt.plot(epochs,\n",
    "smooth_curve(acc), 'ro', label='Smoothed training acc')\n",
    "\n",
    "plt.plot(epochs,\n",
    "smooth_curve(val_acc), 'b', label='Smoothed validation acc')\n",
    "plt.title('Training and validation accuracy')\n",
    "plt.legend()\n",
    "plt.figure()\n",
    "plt.plot(epochs,\n",
    "smooth_curve(loss), 'ro', label='Smoothed training loss')\n",
    "plt.plot(epochs,\n",
    "smooth_curve(val_loss), 'b', label='Smoothed validation loss')\n",
    "plt.title('Training and validation loss')\n",
    "plt.legend()\n",
    "plt.show()"
   ]
  },
  {
   "cell_type": "code",
   "execution_count": 36,
   "metadata": {},
   "outputs": [
    {
     "name": "stdout",
     "output_type": "stream",
     "text": [
      "Found 1000 images belonging to 2 classes.\n",
      "test acc: 0.9409999895095825\n"
     ]
    }
   ],
   "source": [
    "test_generator = val_datagen.flow_from_directory(\n",
    "test_dir,\n",
    "target_size=(150, 150),\n",
    "batch_size=20,\n",
    "class_mode='binary')\n",
    "\n",
    "test_loss, test_acc = net.evaluate_generator(test_generator, steps=50)\n",
    "print('test acc:', test_acc)"
   ]
  }
 ],
 "metadata": {
  "kernelspec": {
   "display_name": "Python 3",
   "language": "python",
   "name": "python3"
  },
  "language_info": {
   "codemirror_mode": {
    "name": "ipython",
    "version": 3
   },
   "file_extension": ".py",
   "mimetype": "text/x-python",
   "name": "python",
   "nbconvert_exporter": "python",
   "pygments_lexer": "ipython3",
   "version": "3.6.4"
  }
 },
 "nbformat": 4,
 "nbformat_minor": 2
}
