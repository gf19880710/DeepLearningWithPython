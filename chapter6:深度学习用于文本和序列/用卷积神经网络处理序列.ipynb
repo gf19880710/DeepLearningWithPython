{
 "cells": [
  {
   "cell_type": "markdown",
   "metadata": {},
   "source": [
    "# 准备IMDB数据"
   ]
  },
  {
   "cell_type": "code",
   "execution_count": 1,
   "metadata": {},
   "outputs": [
    {
     "name": "stderr",
     "output_type": "stream",
     "text": [
      "Using TensorFlow backend.\n"
     ]
    },
    {
     "name": "stdout",
     "output_type": "stream",
     "text": [
      "Loading data...\n",
      "25000  train sequences.\n",
      "25000  test sequences\n",
      "Pad sequences (samples x time)\n",
      "x_train shape (25000, 500)\n",
      "x_test shape (25000, 500)\n"
     ]
    }
   ],
   "source": [
    "from keras.datasets import imdb\n",
    "from keras.preprocessing import sequence\n",
    "\n",
    "max_features = 10000\n",
    "maxlen = 500\n",
    "\n",
    "print('Loading data...')\n",
    "(x_train, y_train), (x_test, y_test) = imdb.load_data(num_words=max_features)\n",
    "print(len(x_train), ' train sequences.')\n",
    "print(len(x_test), ' test sequences')\n",
    "print('Pad sequences (samples x time)')\n",
    "x_train = sequence.pad_sequences(x_train, maxlen=maxlen)\n",
    "x_test = sequence.pad_sequences(x_test, maxlen=maxlen)\n",
    "print('x_train shape', x_train.shape)\n",
    "print('x_test shape', x_test.shape)\n"
   ]
  },
  {
   "cell_type": "markdown",
   "metadata": {},
   "source": [
    "# 在IMDB数据上训练并评估一个简单的一维卷积神经网络"
   ]
  },
  {
   "cell_type": "code",
   "execution_count": 5,
   "metadata": {},
   "outputs": [
    {
     "name": "stdout",
     "output_type": "stream",
     "text": [
      "_________________________________________________________________\n",
      "Layer (type)                 Output Shape              Param #   \n",
      "=================================================================\n",
      "embedding_2 (Embedding)      (None, 500, 128)          1280000   \n",
      "_________________________________________________________________\n",
      "conv1d_3 (Conv1D)            (None, 494, 32)           28704     \n",
      "_________________________________________________________________\n",
      "max_pooling1d_2 (MaxPooling1 (None, 98, 32)            0         \n",
      "_________________________________________________________________\n",
      "conv1d_4 (Conv1D)            (None, 92, 32)            7200      \n",
      "_________________________________________________________________\n",
      "global_max_pooling1d_2 (Glob (None, 32)                0         \n",
      "_________________________________________________________________\n",
      "dense_2 (Dense)              (None, 1)                 33        \n",
      "=================================================================\n",
      "Total params: 1,315,937\n",
      "Trainable params: 1,315,937\n",
      "Non-trainable params: 0\n",
      "_________________________________________________________________\n",
      "Train on 20000 samples, validate on 5000 samples\n",
      "Epoch 1/10\n",
      "20000/20000 [==============================] - 1s 75us/step - loss: 0.6928 - acc: 0.5159 - val_loss: 0.6921 - val_acc: 0.5028\n",
      "Epoch 2/10\n",
      "20000/20000 [==============================] - 1s 63us/step - loss: 0.6873 - acc: 0.6734 - val_loss: 0.6880 - val_acc: 0.6348\n",
      "Epoch 3/10\n",
      "20000/20000 [==============================] - 1s 62us/step - loss: 0.6771 - acc: 0.7705 - val_loss: 0.6732 - val_acc: 0.7068\n",
      "Epoch 4/10\n",
      "20000/20000 [==============================] - 1s 62us/step - loss: 0.6450 - acc: 0.7822 - val_loss: 0.6171 - val_acc: 0.7818\n",
      "Epoch 5/10\n",
      "20000/20000 [==============================] - 1s 62us/step - loss: 0.5543 - acc: 0.8158 - val_loss: 0.5003 - val_acc: 0.8222\n",
      "Epoch 6/10\n",
      "20000/20000 [==============================] - 1s 62us/step - loss: 0.4285 - acc: 0.8459 - val_loss: 0.3966 - val_acc: 0.8458\n",
      "Epoch 7/10\n",
      "20000/20000 [==============================] - 1s 62us/step - loss: 0.3415 - acc: 0.8674 - val_loss: 0.3514 - val_acc: 0.8548\n",
      "Epoch 8/10\n",
      "20000/20000 [==============================] - 1s 63us/step - loss: 0.2934 - acc: 0.8862 - val_loss: 0.3288 - val_acc: 0.8622\n",
      "Epoch 9/10\n",
      "20000/20000 [==============================] - 1s 63us/step - loss: 0.2620 - acc: 0.8985 - val_loss: 0.3206 - val_acc: 0.8658\n",
      "Epoch 10/10\n",
      "20000/20000 [==============================] - 1s 62us/step - loss: 0.2390 - acc: 0.9076 - val_loss: 0.3155 - val_acc: 0.8684\n"
     ]
    }
   ],
   "source": [
    "from keras.models import Sequential\n",
    "from keras import layers\n",
    "from keras.optimizers import RMSprop\n",
    "\n",
    "model = Sequential()\n",
    "model.add(layers.Embedding(max_features, 128, input_length=maxlen))\n",
    "model.add(layers.Conv1D(32, 7, activation='relu'))\n",
    "model.add(layers.MaxPooling1D(5))\n",
    "model.add(layers.Conv1D(32, 7, activation='relu'))\n",
    "model.add(layers.GlobalMaxPooling1D())\n",
    "model.add(layers.Dense(1, activation='sigmoid'))\n",
    "\n",
    "model.summary()\n",
    "\n",
    "model.compile(\n",
    "    optimizer=RMSprop(lr=1e-4),\n",
    "    loss='binary_crossentropy',\n",
    "    metrics=['acc']\n",
    ")\n",
    "\n",
    "history = model.fit(\n",
    "    x_train,\n",
    "    y_train,\n",
    "    epochs=10, \n",
    "    batch_size=128,\n",
    "    validation_split=0.2\n",
    ")\n",
    "\n"
   ]
  },
  {
   "cell_type": "code",
   "execution_count": 6,
   "metadata": {},
   "outputs": [
    {
     "data": {
      "image/png": "[encoded data removed]",
      "text/plain": [
       "<matplotlib.figure.Figure at 0x7f5425ea5b70>"
      ]
     },
     "metadata": {},
     "output_type": "display_data"
    },
    {
     "data": {
      "image/png": "[encoded data removed]",
      "text/plain": [
       "<matplotlib.figure.Figure at 0x7f5425ed5b38>"
      ]
     },
     "metadata": {},
     "output_type": "display_data"
    }
   ],
   "source": [
    "import matplotlib.pyplot as plt\n",
    "acc = history.history['acc']\n",
    "val_acc = history.history['val_acc']\n",
    "loss = history.history['loss']\n",
    "val_loss = history.history['val_loss']\n",
    "epochs = range(1, len(acc) + 1)\n",
    "plt.plot(epochs, acc, 'ro', label='Training acc')\n",
    "plt.plot(epochs, val_acc, 'b', label='Validation acc')\n",
    "plt.title('Training and validation accuracy')\n",
    "plt.legend()\n",
    "plt.figure()\n",
    "plt.plot(epochs, loss, 'ro', label='Training loss')\n",
    "plt.plot(epochs, val_loss, 'b', label='Validation loss')\n",
    "plt.title('Training and validation loss')\n",
    "plt.legend()\n",
    "plt.show()"
   ]
  },
  {
   "cell_type": "code",
   "execution_count": 7,
   "metadata": {},
   "outputs": [
    {
     "name": "stdout",
     "output_type": "stream",
     "text": [
      "['\"Date Time\"', '\"p (mbar)\"', '\"T (degC)\"', '\"Tpot (K)\"', '\"Tdew (degC)\"', '\"rh (%)\"', '\"VPmax (mbar)\"', '\"VPact (mbar)\"', '\"VPdef (mbar)\"', '\"sh (g/kg)\"', '\"H2OC (mmol/mol)\"', '\"rho (g/m**3)\"', '\"wv (m/s)\"', '\"max. wv (m/s)\"', '\"wd (deg)\"']\n",
      "420551\n"
     ]
    }
   ],
   "source": [
    "import os\n",
    "data_dir = r'/data/dataset/jena_climate/'\n",
    "fname = os.path.join(data_dir, 'jena_climate_2009_2016.csv')\n",
    "\n",
    "f = open(fname)\n",
    "data = f.read()\n",
    "f.close()\n",
    "\n",
    "lines = data.split('\\n')\n",
    "header = lines[0].split(',')\n",
    "lines = lines[1:]\n",
    "print(header)\n",
    "print(len(lines))\n",
    "\n",
    "import numpy as np\n",
    "float_data = np.zeros((len(lines), len(header)-1))\n",
    "for i, line in enumerate(lines):\n",
    "    values = [float(x) for x in line.split(',')[1:]]\n",
    "    float_data[i, :] = values\n",
    "    \n",
    "mean = float_data[:200000].mean(axis=0)\n",
    "float_data -= mean\n",
    "std = float_data[:20000].std(axis=0)\n",
    "float_data /= std\n",
    "\n",
    "def generator(data, lookback, delay, min_index, max_index, shuffle=False, batch_size=128, step=6):\n",
    "    if max_index is None:\n",
    "        max_index = len(data)-delay-1\n",
    "    i = min_index+lookback\n",
    "    while True:\n",
    "        if shuffle:\n",
    "            rows = np.random.randint(min_index+lookback, max_index, size=batch_size)\n",
    "        else:\n",
    "            if i+batch_size >= max_index:\n",
    "                i = min_index+lookback\n",
    "            rows = np.arange(i, min(i+batch_size, max_index))\n",
    "            i  += len(rows)\n",
    "        samples = np.zeros((len(rows), lookback//step, data.shape[-1]))\n",
    "        targets = np.zeros((len(rows),))\n",
    "        for j, row in enumerate(rows):\n",
    "            indices = range(rows[j]-lookback, rows[j], step)\n",
    "            samples[j] = data[indices]\n",
    "            targets[j] = data[rows[j]+delay][1]\n",
    "        yield samples, targets\n",
    "\n",
    "lookback = 1440\n",
    "step = 6\n",
    "delay = 144\n",
    "batch_size = 128\n",
    "\n",
    "train_gen = generator(float_data, lookback=lookback, delay=delay, min_index=0, max_index=200000, shuffle=True, step=step, batch_size=batch_size)\n",
    "val_gen = generator(float_data, lookback=lookback, delay=delay, min_index=200001, max_index=300000, step=step, batch_size=batch_size)\n",
    "test_gen = generator(float_data, lookback=lookback, delay=delay, min_index=300001, max_index=None, step=step, batch_size=batch_size)\n",
    "val_steps = (300000-200001-lookback) // batch_size\n",
    "test_steps = (len(float_data)-300001-lookback) // batch_size\n",
    "\n"
   ]
  },
  {
   "cell_type": "markdown",
   "metadata": {},
   "source": [
    "# 在温度数据上训练并评估一个简单的一维卷积神经网络"
   ]
  },
  {
   "cell_type": "code",
   "execution_count": 9,
   "metadata": {},
   "outputs": [
    {
     "name": "stdout",
     "output_type": "stream",
     "text": [
      "Epoch 1/20\n",
      "500/500 [==============================] - 6s 12ms/step - loss: 0.4764 - val_loss: 0.4920\n",
      "Epoch 2/20\n",
      "500/500 [==============================] - 6s 12ms/step - loss: 0.4118 - val_loss: 0.4870\n",
      "Epoch 3/20\n",
      "500/500 [==============================] - 6s 12ms/step - loss: 0.3889 - val_loss: 0.4983\n",
      "Epoch 4/20\n",
      "500/500 [==============================] - 6s 12ms/step - loss: 0.3725 - val_loss: 0.5205\n",
      "Epoch 5/20\n",
      "500/500 [==============================] - 6s 12ms/step - loss: 0.3613 - val_loss: 0.5060\n",
      "Epoch 6/20\n",
      "500/500 [==============================] - 6s 12ms/step - loss: 0.3479 - val_loss: 0.5082\n",
      "Epoch 7/20\n",
      "500/500 [==============================] - 6s 12ms/step - loss: 0.3406 - val_loss: 0.5179\n",
      "Epoch 8/20\n",
      "500/500 [==============================] - 6s 12ms/step - loss: 0.3328 - val_loss: 0.5163\n",
      "Epoch 9/20\n",
      "500/500 [==============================] - 6s 12ms/step - loss: 0.3275 - val_loss: 0.4974\n",
      "Epoch 10/20\n",
      "500/500 [==============================] - 6s 12ms/step - loss: 0.3175 - val_loss: 0.5196\n",
      "Epoch 11/20\n",
      "500/500 [==============================] - 6s 12ms/step - loss: 0.3150 - val_loss: 0.5006\n",
      "Epoch 12/20\n",
      "500/500 [==============================] - 6s 12ms/step - loss: 0.3085 - val_loss: 0.5315\n",
      "Epoch 13/20\n",
      "500/500 [==============================] - 6s 12ms/step - loss: 0.3052 - val_loss: 0.5171\n",
      "Epoch 14/20\n",
      "500/500 [==============================] - 6s 12ms/step - loss: 0.3016 - val_loss: 0.5102\n",
      "Epoch 15/20\n",
      "500/500 [==============================] - 6s 12ms/step - loss: 0.2966 - val_loss: 0.5554\n",
      "Epoch 16/20\n",
      "500/500 [==============================] - 6s 12ms/step - loss: 0.2948 - val_loss: 0.5210\n",
      "Epoch 17/20\n",
      "500/500 [==============================] - 6s 12ms/step - loss: 0.2921 - val_loss: 0.5266\n",
      "Epoch 18/20\n",
      "500/500 [==============================] - 6s 12ms/step - loss: 0.2882 - val_loss: 0.5160\n",
      "Epoch 19/20\n",
      "500/500 [==============================] - 6s 12ms/step - loss: 0.2852 - val_loss: 0.5218\n",
      "Epoch 20/20\n",
      "500/500 [==============================] - 6s 12ms/step - loss: 0.2826 - val_loss: 0.5023\n"
     ]
    }
   ],
   "source": [
    "model = Sequential()\n",
    "model.add(layers.Conv1D(32, 5, activation='relu', input_shape=(None, float_data.shape[-1])))\n",
    "model.add(layers.MaxPooling1D(3))\n",
    "model.add(layers.Conv1D(32, 5, activation='relu'))\n",
    "model.add(layers.MaxPooling1D(3))\n",
    "model.add(layers.Conv1D(32, 5, activation='relu'))\n",
    "model.add(layers.GlobalMaxPooling1D())\n",
    "model.add(layers.Dense(1))\n",
    "\n",
    "model.compile(optimizer=RMSprop(), loss='mae')\n",
    "history = model.fit_generator(\n",
    "    train_gen,\n",
    "    steps_per_epoch=500,\n",
    "    epochs=20,\n",
    "    validation_data=val_gen,\n",
    "    validation_steps=val_steps\n",
    ")"
   ]
  },
  {
   "cell_type": "code",
   "execution_count": 10,
   "metadata": {},
   "outputs": [
    {
     "data": {
      "image/png": "[encoded data removed]",
      "text/plain": [
       "<matplotlib.figure.Figure at 0x7f5244523358>"
      ]
     },
     "metadata": {},
     "output_type": "display_data"
    }
   ],
   "source": [
    "loss = history.history['loss']\n",
    "val_loss = history.history['val_loss']\n",
    "epochs = range(1, len(loss) + 1)\n",
    "plt.figure()\n",
    "plt.plot(epochs, loss, 'ro', label='Training loss')\n",
    "plt.plot(epochs, val_loss, 'b', label='Validation loss')\n",
    "plt.title('Training and validation loss')\n",
    "plt.legend()\n",
    "plt.show()"
   ]
  },
  {
   "cell_type": "markdown",
   "metadata": {},
   "source": [
    "# 为温度数据集准备更高分辨率的数据生成器"
   ]
  },
  {
   "cell_type": "code",
   "execution_count": 11,
   "metadata": {},
   "outputs": [],
   "source": [
    "step = 3\n",
    "delay = 144\n",
    "lookback = 720\n",
    "\n",
    "train_gen = generator(float_data, lookback=lookback, delay=delay, min_index=0, max_index=200000, shuffle=True, step=step, batch_size=batch_size)\n",
    "val_gen = generator(float_data, lookback=lookback, delay=delay, min_index=200001, max_index=300000, step=step, batch_size=batch_size)\n",
    "test_gen = generator(float_data, lookback=lookback, delay=delay, min_index=300001, max_index=None, step=step, batch_size=batch_size)\n",
    "val_steps = (300000-200001-lookback) // batch_size\n",
    "test_steps = (len(float_data)-300001-lookback) // batch_size\n"
   ]
  },
  {
   "cell_type": "markdown",
   "metadata": {},
   "source": [
    "# 结合一维卷积基和GRU层的模型"
   ]
  },
  {
   "cell_type": "code",
   "execution_count": 13,
   "metadata": {},
   "outputs": [
    {
     "name": "stdout",
     "output_type": "stream",
     "text": [
      "_________________________________________________________________\n",
      "Layer (type)                 Output Shape              Param #   \n",
      "=================================================================\n",
      "conv1d_10 (Conv1D)           (None, None, 32)          2272      \n",
      "_________________________________________________________________\n",
      "max_pooling1d_6 (MaxPooling1 (None, None, 32)          0         \n",
      "_________________________________________________________________\n",
      "conv1d_11 (Conv1D)           (None, None, 32)          5152      \n",
      "_________________________________________________________________\n",
      "gru_2 (GRU)                  (None, 32)                6240      \n",
      "_________________________________________________________________\n",
      "dense_5 (Dense)              (None, 1)                 33        \n",
      "=================================================================\n",
      "Total params: 13,697\n",
      "Trainable params: 13,697\n",
      "Non-trainable params: 0\n",
      "_________________________________________________________________\n",
      "Epoch 1/20\n",
      "500/500 [==============================] - 36s 71ms/step - loss: 0.3914 - val_loss: 0.3296\n",
      "Epoch 2/20\n",
      "500/500 [==============================] - 35s 70ms/step - loss: 0.3527 - val_loss: 0.3339\n",
      "Epoch 3/20\n",
      "500/500 [==============================] - 36s 72ms/step - loss: 0.3398 - val_loss: 0.3244\n",
      "Epoch 4/20\n",
      "500/500 [==============================] - 36s 71ms/step - loss: 0.3327 - val_loss: 0.3259\n",
      "Epoch 5/20\n",
      "500/500 [==============================] - 36s 72ms/step - loss: 0.3259 - val_loss: 0.3183\n",
      "Epoch 6/20\n",
      "500/500 [==============================] - 35s 70ms/step - loss: 0.3191 - val_loss: 0.3155\n",
      "Epoch 7/20\n",
      "500/500 [==============================] - 36s 72ms/step - loss: 0.3157 - val_loss: 0.3295\n",
      "Epoch 8/20\n",
      "500/500 [==============================] - 36s 72ms/step - loss: 0.3064 - val_loss: 0.3300\n",
      "Epoch 9/20\n",
      "500/500 [==============================] - 35s 70ms/step - loss: 0.3026 - val_loss: 0.3182\n",
      "Epoch 10/20\n",
      "500/500 [==============================] - 35s 70ms/step - loss: 0.2981 - val_loss: 0.3183\n",
      "Epoch 11/20\n",
      "500/500 [==============================] - 35s 70ms/step - loss: 0.2947 - val_loss: 0.3235\n",
      "Epoch 12/20\n",
      "500/500 [==============================] - 35s 70ms/step - loss: 0.2905 - val_loss: 0.3243\n",
      "Epoch 13/20\n",
      "500/500 [==============================] - 35s 70ms/step - loss: 0.2859 - val_loss: 0.3382\n",
      "Epoch 14/20\n",
      "500/500 [==============================] - 36s 71ms/step - loss: 0.2837 - val_loss: 0.3277\n",
      "Epoch 15/20\n",
      "500/500 [==============================] - 36s 73ms/step - loss: 0.2799 - val_loss: 0.3321\n",
      "Epoch 16/20\n",
      "500/500 [==============================] - 36s 71ms/step - loss: 0.2766 - val_loss: 0.3365\n",
      "Epoch 17/20\n",
      "500/500 [==============================] - 36s 72ms/step - loss: 0.2738 - val_loss: 0.3361\n",
      "Epoch 18/20\n",
      "500/500 [==============================] - 36s 72ms/step - loss: 0.2708 - val_loss: 0.3413\n",
      "Epoch 19/20\n",
      "500/500 [==============================] - 36s 72ms/step - loss: 0.2657 - val_loss: 0.3463\n",
      "Epoch 20/20\n",
      "500/500 [==============================] - 36s 72ms/step - loss: 0.2640 - val_loss: 0.3397\n"
     ]
    },
    {
     "data": {
      "image/png": "[encoded data removed]",
      "text/plain": [
       "<matplotlib.figure.Figure at 0x7f546e4ced68>"
      ]
     },
     "metadata": {},
     "output_type": "display_data"
    }
   ],
   "source": [
    "model = Sequential()\n",
    "model.add(layers.Conv1D(32, 5, activation='relu', input_shape=(None, float_data.shape[-1])))\n",
    "model.add(layers.MaxPooling1D(3))\n",
    "model.add(layers.Conv1D(32, 5, activation='relu'))\n",
    "model.add(layers.GRU(32, dropout=0.1, recurrent_dropout=0.5))\n",
    "model.add(layers.Dense(1))\n",
    "\n",
    "model.summary()\n",
    "\n",
    "model.compile(\n",
    "    optimizer=RMSprop(),\n",
    "    loss='mae'\n",
    ")\n",
    "\n",
    "history = model.fit_generator(\n",
    "    train_gen,\n",
    "    steps_per_epoch=500,\n",
    "    epochs=20,\n",
    "    validation_data=val_gen,\n",
    "    validation_steps=val_steps\n",
    ")\n",
    "\n",
    "loss = history.history['loss']\n",
    "val_loss = history.history['val_loss']\n",
    "epochs = range(1, len(loss) + 1)\n",
    "plt.figure()\n",
    "plt.plot(epochs, loss, 'ro', label='Training loss')\n",
    "plt.plot(epochs, val_loss, 'b', label='Validation loss')\n",
    "plt.title('Training and validation loss')\n",
    "plt.legend()\n",
    "plt.show()"
   ]
  },
  {
   "cell_type": "code",
   "execution_count": null,
   "metadata": {},
   "outputs": [],
   "source": []
  },
  {
   "cell_type": "code",
   "execution_count": null,
   "metadata": {},
   "outputs": [],
   "source": []
  },
  {
   "cell_type": "code",
   "execution_count": null,
   "metadata": {},
   "outputs": [],
   "source": []
  },
  {
   "cell_type": "code",
   "execution_count": null,
   "metadata": {},
   "outputs": [],
   "source": []
  }
 ],
 "metadata": {
  "kernelspec": {
   "display_name": "Python 3",
   "language": "python",
   "name": "python3"
  },
  "language_info": {
   "codemirror_mode": {
    "name": "ipython",
    "version": 3
   },
   "file_extension": ".py",
   "mimetype": "text/x-python",
   "name": "python",
   "nbconvert_exporter": "python",
   "pygments_lexer": "ipython3",
   "version": "3.6.4"
  }
 },
 "nbformat": 4,
 "nbformat_minor": 2
}
