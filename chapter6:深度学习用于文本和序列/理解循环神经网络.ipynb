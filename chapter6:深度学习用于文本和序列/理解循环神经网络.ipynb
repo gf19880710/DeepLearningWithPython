{
 "cells": [
  {
   "cell_type": "markdown",
   "metadata": {},
   "source": [
    "# RNN伪代码"
   ]
  },
  {
   "cell_type": "code",
   "execution_count": null,
   "metadata": {},
   "outputs": [],
   "source": [
    "# t时刻的状态\n",
    "state_t = 0\n",
    "# 对序列元素进行遍历\n",
    "for input_t in input_sequence:\n",
    "    output_t = f(input_t, state_t)\n",
    "    # 前一次的输出,变成下一次迭代的状态\n",
    "    state_t = output_t"
   ]
  },
  {
   "cell_type": "markdown",
   "metadata": {},
   "source": [
    "# 更详细的RNN伪代码"
   ]
  },
  {
   "cell_type": "code",
   "execution_count": null,
   "metadata": {},
   "outputs": [],
   "source": [
    "state_t = 0\n",
    "for input_t in input_sequence:\n",
    "    output_t = activation(dot(W, input_t) + dot(U, state_t) + b)\n",
    "    state_t = output_t"
   ]
  },
  {
   "cell_type": "markdown",
   "metadata": {},
   "source": [
    "# 简单RNN的numpy实现"
   ]
  },
  {
   "cell_type": "code",
   "execution_count": 3,
   "metadata": {},
   "outputs": [],
   "source": [
    "import numpy as np\n",
    "\n",
    "# 输入序列的时间步数\n",
    "timesteps = 100\n",
    "# 输入特征空间的维度\n",
    "input_features = 32\n",
    "# 输出特征空间的维度\n",
    "output_features = 64\n",
    "\n",
    "# 输入数据:随机噪声,仅作为示例\n",
    "inputs = np.random.random((timesteps, input_features))\n",
    "# 初始状态:全0向量\n",
    "state_t = np.zeros((output_features,))\n",
    "# 创建随机的权重矩阵\n",
    "W = np.random.random((output_features, input_features))\n",
    "U = np.random.random((output_features, output_features))\n",
    "b = np.random.random((output_features,))\n",
    "\n",
    "successive_outputs = list()\n",
    "# input_t是形状为(input_features, )的向量\n",
    "for input_t in inputs:\n",
    "    # 由输入和当前的状态计算得到当前输出\n",
    "    output_t = np.tanh(np.dot(W, input_t) + np.dot(U, state_t) + b)\n",
    "    # 将这个输出保存到一个列表中\n",
    "    successive_outputs.append(output_t)\n",
    "    # 更新网络的状态,用于下一个时间步\n",
    "    state_t = output_t\n",
    "# 最终输出是一个形状为(timesteps, output_features)的二维张量\n",
    "final_output_sequence = np.stack(successive_outputs, axis=0)"
   ]
  },
  {
   "cell_type": "markdown",
   "metadata": {},
   "source": [
    "# Keras中的循环层"
   ]
  },
  {
   "cell_type": "code",
   "execution_count": 6,
   "metadata": {},
   "outputs": [],
   "source": [
    "# SimpleRNN层能够像替他Keras层一样处理序列批量.\n",
    "# SimpleRNN可以在两种不同的模式下运行:\n",
    "#     一种是返回每个时间步连续输出的完整序列,即形状为(batch_size, timesteps, output_features)\n",
    "#     另外一种是只返回每个输入序列的最终结果,即形状为(batch_size, output_features)\n",
    "#     这两种模式由return_sequences这个构造函数参数来控制"
   ]
  },
  {
   "cell_type": "code",
   "execution_count": 7,
   "metadata": {},
   "outputs": [
    {
     "name": "stdout",
     "output_type": "stream",
     "text": [
      "_________________________________________________________________\n",
      "Layer (type)                 Output Shape              Param #   \n",
      "=================================================================\n",
      "embedding_1 (Embedding)      (None, None, 32)          320000    \n",
      "_________________________________________________________________\n",
      "simple_rnn_1 (SimpleRNN)     (None, 32)                2080      \n",
      "=================================================================\n",
      "Total params: 322,080\n",
      "Trainable params: 322,080\n",
      "Non-trainable params: 0\n",
      "_________________________________________________________________\n"
     ]
    }
   ],
   "source": [
    "from keras.models import Sequential\n",
    "from keras.layers import SimpleRNN, Embedding\n",
    "model = Sequential()\n",
    "model.add(Embedding(10000, 32))\n",
    "model.add(SimpleRNN(32))\n",
    "model.summary()"
   ]
  },
  {
   "cell_type": "code",
   "execution_count": 10,
   "metadata": {},
   "outputs": [
    {
     "name": "stdout",
     "output_type": "stream",
     "text": [
      "_________________________________________________________________\n",
      "Layer (type)                 Output Shape              Param #   \n",
      "=================================================================\n",
      "embedding_4 (Embedding)      (None, None, 32)          320000    \n",
      "_________________________________________________________________\n",
      "simple_rnn_4 (SimpleRNN)     (None, None, 32)          2080      \n",
      "=================================================================\n",
      "Total params: 322,080\n",
      "Trainable params: 322,080\n",
      "Non-trainable params: 0\n",
      "_________________________________________________________________\n"
     ]
    }
   ],
   "source": [
    "model = Sequential()\n",
    "model.add(Embedding(10000, 32))\n",
    "model.add(SimpleRNN(32, return_sequences=True))\n",
    "model.summary()"
   ]
  },
  {
   "cell_type": "code",
   "execution_count": 11,
   "metadata": {},
   "outputs": [
    {
     "name": "stdout",
     "output_type": "stream",
     "text": [
      "_________________________________________________________________\n",
      "Layer (type)                 Output Shape              Param #   \n",
      "=================================================================\n",
      "embedding_5 (Embedding)      (None, None, 32)          320000    \n",
      "_________________________________________________________________\n",
      "simple_rnn_5 (SimpleRNN)     (None, None, 32)          2080      \n",
      "_________________________________________________________________\n",
      "simple_rnn_6 (SimpleRNN)     (None, None, 32)          2080      \n",
      "_________________________________________________________________\n",
      "simple_rnn_7 (SimpleRNN)     (None, None, 32)          2080      \n",
      "_________________________________________________________________\n",
      "simple_rnn_8 (SimpleRNN)     (None, 32)                2080      \n",
      "=================================================================\n",
      "Total params: 328,320\n",
      "Trainable params: 328,320\n",
      "Non-trainable params: 0\n",
      "_________________________________________________________________\n"
     ]
    }
   ],
   "source": [
    "# 为了提高网络的表示能力,将多个循环层逐个堆叠有时也是很有用的.在这种情况下,你需要让所有中间层都返回完整的输出序列\n",
    "model = Sequential()\n",
    "model.add(Embedding(10000, 32))\n",
    "model.add(SimpleRNN(32, return_sequences=True))\n",
    "model.add(SimpleRNN(32, return_sequences=True))\n",
    "model.add(SimpleRNN(32, return_sequences=True))\n",
    "model.add(SimpleRNN(32))\n",
    "model.summary()"
   ]
  },
  {
   "cell_type": "markdown",
   "metadata": {},
   "source": [
    "# 准备IMDB数据"
   ]
  },
  {
   "cell_type": "code",
   "execution_count": 13,
   "metadata": {},
   "outputs": [
    {
     "name": "stdout",
     "output_type": "stream",
     "text": [
      "Loading data...\n",
      "25000 train sequences\n",
      "25000 test sequences\n",
      "Pad sequences (samples x time)\n",
      "input_train shape:  (25000, 500)\n",
      "input_test shape:  (25000, 500)\n"
     ]
    }
   ],
   "source": [
    "from keras.datasets import imdb\n",
    "from keras.preprocessing import sequence\n",
    "# 作为特征的单词个数\n",
    "max_features = 10000\n",
    "# 在这么多单词之后截断文本\n",
    "maxlen = 500\n",
    "batch_size = 32\n",
    "print('Loading data...')\n",
    "(input_train, y_train), (input_test, y_test) = imdb.load_data(num_words=max_features)\n",
    "print(len(input_train), 'train sequences')\n",
    "print(len(input_test), 'test sequences')\n",
    "print('Pad sequences (samples x time)')\n",
    "input_train = sequence.pad_sequences(input_train, maxlen=maxlen)\n",
    "input_test = sequence.pad_sequences(input_test, maxlen=maxlen)\n",
    "print('input_train shape: ', input_train.shape)\n",
    "print('input_test shape: ', input_test.shape)"
   ]
  },
  {
   "cell_type": "markdown",
   "metadata": {},
   "source": [
    "## 用Embedding层和一个SimpleRNN层来训练一个简单的循环网络"
   ]
  },
  {
   "cell_type": "code",
   "execution_count": 14,
   "metadata": {},
   "outputs": [],
   "source": [
    "from keras.layers import Dense"
   ]
  },
  {
   "cell_type": "code",
   "execution_count": 15,
   "metadata": {},
   "outputs": [
    {
     "name": "stdout",
     "output_type": "stream",
     "text": [
      "Train on 20000 samples, validate on 5000 samples\n",
      "Epoch 1/10\n",
      "20000/20000 [==============================] - 14s 699us/step - loss: 0.6409 - acc: 0.6135 - val_loss: 0.5537 - val_acc: 0.7176\n",
      "Epoch 2/10\n",
      "20000/20000 [==============================] - 14s 682us/step - loss: 0.4086 - acc: 0.8222 - val_loss: 0.5247 - val_acc: 0.7410\n",
      "Epoch 3/10\n",
      "20000/20000 [==============================] - 13s 668us/step - loss: 0.2868 - acc: 0.8867 - val_loss: 0.3743 - val_acc: 0.8354\n",
      "Epoch 4/10\n",
      "20000/20000 [==============================] - 13s 669us/step - loss: 0.2565 - acc: 0.9020 - val_loss: 0.4008 - val_acc: 0.8394\n",
      "Epoch 5/10\n",
      "20000/20000 [==============================] - 13s 664us/step - loss: 0.1626 - acc: 0.9400 - val_loss: 0.3656 - val_acc: 0.8722\n",
      "Epoch 6/10\n",
      "20000/20000 [==============================] - 13s 669us/step - loss: 0.1037 - acc: 0.9642 - val_loss: 0.4338 - val_acc: 0.8386\n",
      "Epoch 7/10\n",
      "20000/20000 [==============================] - 13s 660us/step - loss: 0.0673 - acc: 0.9797 - val_loss: 0.4404 - val_acc: 0.8570\n",
      "Epoch 8/10\n",
      "20000/20000 [==============================] - 13s 663us/step - loss: 0.0399 - acc: 0.9886 - val_loss: 0.5690 - val_acc: 0.8200\n",
      "Epoch 9/10\n",
      "20000/20000 [==============================] - 13s 663us/step - loss: 0.0280 - acc: 0.9922 - val_loss: 0.6324 - val_acc: 0.7990\n",
      "Epoch 10/10\n",
      "20000/20000 [==============================] - 13s 663us/step - loss: 0.0186 - acc: 0.9950 - val_loss: 0.6390 - val_acc: 0.8180\n"
     ]
    }
   ],
   "source": [
    "model = Sequential()\n",
    "model.add(Embedding(max_features, 32))\n",
    "model.add(SimpleRNN(32))\n",
    "model.add(Dense(1, activation='sigmoid'))\n",
    "\n",
    "model.compile(\n",
    "    optimizer='rmsprop',\n",
    "    loss='binary_crossentropy',\n",
    "    metrics=['acc']\n",
    ")\n",
    "history = model.fit(\n",
    "    input_train,\n",
    "    y_train,\n",
    "    epochs=10,\n",
    "    batch_size=128,\n",
    "    validation_split=0.2)"
   ]
  },
  {
   "cell_type": "code",
   "execution_count": 17,
   "metadata": {},
   "outputs": [
    {
     "data": {
      "image/png": "[encoded data removed]",
      "text/plain": [
       "<matplotlib.figure.Figure at 0x7f9b2b92dcc0>"
      ]
     },
     "metadata": {},
     "output_type": "display_data"
    },
    {
     "data": {
      "image/png": "[encoded data removed]",
      "text/plain": [
       "<matplotlib.figure.Figure at 0x7f9aa9b897f0>"
      ]
     },
     "metadata": {},
     "output_type": "display_data"
    }
   ],
   "source": [
    "import matplotlib.pyplot as plt\n",
    "acc = history.history['acc']\n",
    "val_acc = history.history['val_acc']\n",
    "loss = history.history['loss']\n",
    "val_loss = history.history['val_loss']\n",
    "epochs = range(1, len(acc) + 1)\n",
    "plt.plot(epochs, acc, 'bo', label='Training acc')\n",
    "plt.plot(epochs, val_acc, 'b', label='Validation acc')\n",
    "plt.title('Training and validation accuracy')\n",
    "plt.legend()\n",
    "plt.figure()\n",
    "plt.plot(epochs, loss, 'bo', label='Training loss')\n",
    "plt.plot(epochs, val_loss, 'b', label='Validation loss')\n",
    "plt.title('Training and validation loss')\n",
    "plt.legend()\n",
    "plt.show()"
   ]
  },
  {
   "cell_type": "code",
   "execution_count": null,
   "metadata": {},
   "outputs": [],
   "source": [
    "# 验证精度只有85%,问题部分原因在于,输入只考虑了前500个单词,而不是整个序列,因此,RNN获得的信息比前面的基准模型更少.\n",
    "# 另一部分原因在于,SimpleRNN不擅长处理长序列,比如文本."
   ]
  },
  {
   "cell_type": "code",
   "execution_count": 19,
   "metadata": {},
   "outputs": [
    {
     "name": "stdout",
     "output_type": "stream",
     "text": [
      "25000/25000 [==============================] - 15s 606us/step\n"
     ]
    },
    {
     "data": {
      "text/plain": [
       "[0.6600112350559234, 0.81536]"
      ]
     },
     "execution_count": 19,
     "metadata": {},
     "output_type": "execute_result"
    }
   ],
   "source": [
    "model.evaluate(input_test, y_test)"
   ]
  },
  {
   "cell_type": "markdown",
   "metadata": {},
   "source": [
    "# 使用Keras中的LSTM层"
   ]
  },
  {
   "cell_type": "code",
   "execution_count": 22,
   "metadata": {},
   "outputs": [
    {
     "name": "stdout",
     "output_type": "stream",
     "text": [
      "Train on 20000 samples, validate on 5000 samples\n",
      "Epoch 1/10\n",
      "20000/20000 [==============================] - 60s 3ms/step - loss: 0.5106 - acc: 0.7602 - val_loss: 0.4270 - val_acc: 0.8372\n",
      "Epoch 2/10\n",
      "20000/20000 [==============================] - 59s 3ms/step - loss: 0.2941 - acc: 0.8836 - val_loss: 0.3897 - val_acc: 0.8430\n",
      "Epoch 3/10\n",
      "20000/20000 [==============================] - 60s 3ms/step - loss: 0.2383 - acc: 0.9102 - val_loss: 0.2839 - val_acc: 0.8914\n",
      "Epoch 4/10\n",
      "20000/20000 [==============================] - 60s 3ms/step - loss: 0.2018 - acc: 0.9261 - val_loss: 0.4260 - val_acc: 0.8726\n",
      "Epoch 5/10\n",
      "20000/20000 [==============================] - 59s 3ms/step - loss: 0.1771 - acc: 0.9345 - val_loss: 0.4104 - val_acc: 0.8610\n",
      "Epoch 6/10\n",
      "20000/20000 [==============================] - 59s 3ms/step - loss: 0.1563 - acc: 0.9444 - val_loss: 0.3394 - val_acc: 0.8888\n",
      "Epoch 7/10\n",
      "20000/20000 [==============================] - 60s 3ms/step - loss: 0.1454 - acc: 0.9472 - val_loss: 0.2947 - val_acc: 0.8874\n",
      "Epoch 8/10\n",
      "20000/20000 [==============================] - 60s 3ms/step - loss: 0.1289 - acc: 0.9545 - val_loss: 0.3207 - val_acc: 0.8822\n",
      "Epoch 9/10\n",
      "20000/20000 [==============================] - 61s 3ms/step - loss: 0.1183 - acc: 0.9597 - val_loss: 0.3260 - val_acc: 0.8830\n",
      "Epoch 10/10\n",
      "20000/20000 [==============================] - 60s 3ms/step - loss: 0.1131 - acc: 0.9613 - val_loss: 0.3656 - val_acc: 0.8822\n"
     ]
    },
    {
     "data": {
      "image/png": "[encoded data removed]",
      "text/plain": [
       "<matplotlib.figure.Figure at 0x7f9a7e73f630>"
      ]
     },
     "metadata": {},
     "output_type": "display_data"
    },
    {
     "data": {
      "image/png": "[encoded data removed]",
      "text/plain": [
       "<matplotlib.figure.Figure at 0x7f9a341242e8>"
      ]
     },
     "metadata": {},
     "output_type": "display_data"
    }
   ],
   "source": [
    "from keras.layers import LSTM\n",
    "model = Sequential()\n",
    "model.add(Embedding(max_features, 32))\n",
    "model.add(LSTM(32))\n",
    "model.add(Dense(1, activation='sigmoid'))\n",
    "\n",
    "model.compile(\n",
    "    optimizer='rmsprop',\n",
    "    loss='binary_crossentropy',\n",
    "    metrics=['acc']\n",
    ")\n",
    "\n",
    "history = model.fit(\n",
    "    input_train,\n",
    "    y_train,\n",
    "    epochs=10,\n",
    "    batch_size=128,\n",
    "    validation_split=0.2\n",
    ")\n",
    "\n",
    "acc = history.history['acc']\n",
    "val_acc = history.history['val_acc']\n",
    "loss = history.history['loss']\n",
    "val_loss = history.history['val_loss']\n",
    "epochs = range(1, len(acc) + 1)\n",
    "plt.plot(epochs, acc, 'bo', label='Training acc')\n",
    "plt.plot(epochs, val_acc, 'b', label='Validation acc')\n",
    "plt.title('Training and validation accuracy')\n",
    "plt.legend()\n",
    "plt.figure()\n",
    "plt.plot(epochs, loss, 'bo', label='Training loss')\n",
    "plt.plot(epochs, val_loss, 'b', label='Validation loss')\n",
    "plt.title('Training and validation loss')\n",
    "plt.legend()\n",
    "plt.show()"
   ]
  },
  {
   "cell_type": "code",
   "execution_count": 24,
   "metadata": {},
   "outputs": [
    {
     "name": "stdout",
     "output_type": "stream",
     "text": [
      "25000/25000 [==============================] - 60s 2ms/step\n"
     ]
    },
    {
     "data": {
      "text/plain": [
       "[0.43735654586791994, 0.86212]"
      ]
     },
     "execution_count": 24,
     "metadata": {},
     "output_type": "execute_result"
    }
   ],
   "source": [
    "model.evaluate(input_test, y_test)"
   ]
  },
  {
   "cell_type": "code",
   "execution_count": null,
   "metadata": {},
   "outputs": [],
   "source": []
  },
  {
   "cell_type": "code",
   "execution_count": null,
   "metadata": {},
   "outputs": [],
   "source": []
  },
  {
   "cell_type": "code",
   "execution_count": null,
   "metadata": {},
   "outputs": [],
   "source": []
  },
  {
   "cell_type": "code",
   "execution_count": null,
   "metadata": {},
   "outputs": [],
   "source": []
  },
  {
   "cell_type": "code",
   "execution_count": null,
   "metadata": {},
   "outputs": [],
   "source": []
  }
 ],
 "metadata": {
  "kernelspec": {
   "display_name": "Python 3",
   "language": "python",
   "name": "python3"
  },
  "language_info": {
   "codemirror_mode": {
    "name": "ipython",
    "version": 3
   },
   "file_extension": ".py",
   "mimetype": "text/x-python",
   "name": "python",
   "nbconvert_exporter": "python",
   "pygments_lexer": "ipython3",
   "version": "3.6.4"
  }
 },
 "nbformat": 4,
 "nbformat_minor": 2
}
